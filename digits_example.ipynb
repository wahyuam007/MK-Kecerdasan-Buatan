{
 "cells": [
  {
   "cell_type": "code",
   "execution_count": 8,
   "metadata": {},
   "outputs": [],
   "source": [
    "from sklearn.datasets import load_digits\n",
    "from sklearn.model_selection import train_test_split\n",
    "import seaborn as sns"
   ]
  },
  {
   "cell_type": "code",
   "execution_count": 9,
   "metadata": {},
   "outputs": [],
   "source": [
    "from sklearn.neural_network import MLPClassifier\n",
    "from sklearn.model_selection import train_test_split\n",
    "from sklearn.metrics import accuracy_score\n",
    "from sklearn.metrics import confusion_matrix\n",
    "from sklearn import datasets\n",
    "from mpl_toolkits.mplot3d import Axes3D\n",
    "from sklearn.decomposition import PCA"
   ]
  },
  {
   "cell_type": "code",
   "execution_count": 10,
   "metadata": {},
   "outputs": [],
   "source": [
    "digits = load_digits()"
   ]
  },
  {
   "cell_type": "code",
   "execution_count": 11,
   "metadata": {},
   "outputs": [
    {
     "data": {
      "text/plain": [
       "(1797, 64)"
      ]
     },
     "execution_count": 11,
     "metadata": {},
     "output_type": "execute_result"
    }
   ],
   "source": [
    "digits.data.shape"
   ]
  },
  {
   "cell_type": "code",
   "execution_count": 12,
   "metadata": {},
   "outputs": [
    {
     "data": {
      "text/plain": [
       "array([ 0.,  0., 10., 14., 11.,  3.,  0.,  0.,  0.,  4., 16., 13.,  6.,\n",
       "       14.,  1.,  0.,  0.,  4., 16.,  2.,  0., 11.,  7.,  0.,  0.,  8.,\n",
       "       16.,  0.,  0., 10.,  5.,  0.,  0.,  8., 16.,  0.,  0., 14.,  4.,\n",
       "        0.,  0.,  8., 16.,  0.,  1., 16.,  1.,  0.,  0.,  4., 16.,  1.,\n",
       "       11., 15.,  0.,  0.,  0.,  0., 11., 16., 12.,  3.,  0.,  0.])"
      ]
     },
     "execution_count": 12,
     "metadata": {},
     "output_type": "execute_result"
    }
   ],
   "source": [
    "digits.data[30]\n"
   ]
  },
  {
   "cell_type": "code",
   "execution_count": 13,
   "metadata": {},
   "outputs": [
    {
     "data": {
      "text/plain": [
       "array([0, 1, 2, 3, 4, 5, 6, 7, 8, 9])"
      ]
     },
     "execution_count": 13,
     "metadata": {},
     "output_type": "execute_result"
    }
   ],
   "source": [
    "digits.target_names"
   ]
  },
  {
   "cell_type": "code",
   "execution_count": 14,
   "metadata": {},
   "outputs": [
    {
     "data": {
      "text/plain": [
       "(1797,)"
      ]
     },
     "execution_count": 14,
     "metadata": {},
     "output_type": "execute_result"
    }
   ],
   "source": [
    "digits.target.shape"
   ]
  },
  {
   "cell_type": "code",
   "execution_count": 15,
   "metadata": {},
   "outputs": [
    {
     "data": {
      "text/plain": [
       "0"
      ]
     },
     "execution_count": 15,
     "metadata": {},
     "output_type": "execute_result"
    }
   ],
   "source": [
    "digits.target[30]"
   ]
  },
  {
   "cell_type": "code",
   "execution_count": 16,
   "metadata": {},
   "outputs": [
    {
     "data": {
      "text/plain": [
       "<matplotlib.image.AxesImage at 0x7f55e0edbc18>"
      ]
     },
     "execution_count": 16,
     "metadata": {},
     "output_type": "execute_result"
    },
    {
     "data": {
      "text/plain": [
       "<Figure size 432x288 with 0 Axes>"
      ]
     },
     "metadata": {},
     "output_type": "display_data"
    },
    {
     "data": {
      "image/png": "[encoded data removed]",
      "text/plain": [
       "<Figure size 288x288 with 1 Axes>"
      ]
     },
     "metadata": {},
     "output_type": "display_data"
    }
   ],
   "source": [
    "import matplotlib.pyplot as plt \n",
    "plt.gray() \n",
    "plt.matshow(digits.images[30]) \n"
   ]
  },
  {
   "cell_type": "code",
   "execution_count": 17,
   "metadata": {},
   "outputs": [],
   "source": [
    "X = digits.data\n",
    "y = digits.target\n",
    "# Membagi data training dan testing(80:20)\n",
    "x_train, x_test, y_train, y_test = train_test_split(X,y, test_size= 0.2, random_state=1)"
   ]
  },
  {
   "cell_type": "code",
   "execution_count": 18,
   "metadata": {},
   "outputs": [
    {
     "data": {
      "text/plain": [
       "(1437, 64)"
      ]
     },
     "execution_count": 18,
     "metadata": {},
     "output_type": "execute_result"
    }
   ],
   "source": [
    "x_train.shape"
   ]
  },
  {
   "cell_type": "code",
   "execution_count": 19,
   "metadata": {},
   "outputs": [
    {
     "data": {
      "text/plain": [
       "(360, 64)"
      ]
     },
     "execution_count": 19,
     "metadata": {},
     "output_type": "execute_result"
    }
   ],
   "source": [
    "x_test.shape"
   ]
  },
  {
   "cell_type": "code",
   "execution_count": 20,
   "metadata": {},
   "outputs": [
    {
     "data": {
      "text/plain": [
       "(360,)"
      ]
     },
     "execution_count": 20,
     "metadata": {},
     "output_type": "execute_result"
    }
   ],
   "source": [
    "y_test.shape"
   ]
  },
  {
   "cell_type": "code",
   "execution_count": 21,
   "metadata": {},
   "outputs": [
    {
     "data": {
      "text/plain": [
       "(1437,)"
      ]
     },
     "execution_count": 21,
     "metadata": {},
     "output_type": "execute_result"
    }
   ],
   "source": [
    "y_train.shape"
   ]
  },
  {
   "cell_type": "code",
   "execution_count": 22,
   "metadata": {},
   "outputs": [],
   "source": [
    "clf = MLPClassifier(hidden_layer_sizes=(100,100,100), max_iter=500, alpha=0.0001, activation='logistic', \n",
    "                    solver='adam', verbose=10, random_state=21, tol=0.000000001)\n",
    "# ket :\n",
    "# activation : {‘identity’, ‘logistic’, ‘tanh’, ‘relu’}, default ‘relu’\n",
    "# solver : {‘lbfgs’, ‘sgd’, ‘adam’}, default ‘adam’"
   ]
  },
  {
   "cell_type": "code",
   "execution_count": 23,
   "metadata": {},
   "outputs": [
    {
     "name": "stdout",
     "output_type": "stream",
     "text": [
      "Iteration 1, loss = 2.32386584\n",
      "Iteration 2, loss = 2.29244592\n",
      "Iteration 3, loss = 2.27978265\n",
      "Iteration 4, loss = 2.25345865\n",
      "Iteration 5, loss = 2.21887278\n",
      "Iteration 6, loss = 2.17258346\n",
      "Iteration 7, loss = 2.10194516\n",
      "Iteration 8, loss = 2.00582175\n",
      "Iteration 9, loss = 1.88757954\n",
      "Iteration 10, loss = 1.75352127\n",
      "Iteration 11, loss = 1.61337869\n",
      "Iteration 12, loss = 1.47553947\n",
      "Iteration 13, loss = 1.34649371\n",
      "Iteration 14, loss = 1.22907920\n",
      "Iteration 15, loss = 1.12254436\n",
      "Iteration 16, loss = 1.02871120\n",
      "Iteration 17, loss = 0.94757276\n",
      "Iteration 18, loss = 0.87664731\n",
      "Iteration 19, loss = 0.81278765\n",
      "Iteration 20, loss = 0.75253072\n",
      "Iteration 21, loss = 0.69812021\n",
      "Iteration 22, loss = 0.64689937\n",
      "Iteration 23, loss = 0.59880644\n",
      "Iteration 24, loss = 0.55275325\n",
      "Iteration 25, loss = 0.51155576\n",
      "Iteration 26, loss = 0.47086105\n",
      "Iteration 27, loss = 0.43641284\n",
      "Iteration 28, loss = 0.40268881\n",
      "Iteration 29, loss = 0.37248426\n",
      "Iteration 30, loss = 0.34196341\n",
      "Iteration 31, loss = 0.32105338\n",
      "Iteration 32, loss = 0.29579652\n",
      "Iteration 33, loss = 0.27261261\n",
      "Iteration 34, loss = 0.25202289\n",
      "Iteration 35, loss = 0.23453028\n",
      "Iteration 36, loss = 0.21941209\n",
      "Iteration 37, loss = 0.20549884\n",
      "Iteration 38, loss = 0.19145022\n",
      "Iteration 39, loss = 0.17954013\n",
      "Iteration 40, loss = 0.16996620\n",
      "Iteration 41, loss = 0.15906567\n",
      "Iteration 42, loss = 0.14906271\n",
      "Iteration 43, loss = 0.14237332\n",
      "Iteration 44, loss = 0.13274847\n",
      "Iteration 45, loss = 0.13011661\n",
      "Iteration 46, loss = 0.11912666\n",
      "Iteration 47, loss = 0.11249146\n",
      "Iteration 48, loss = 0.10642080\n",
      "Iteration 49, loss = 0.10107956\n",
      "Iteration 50, loss = 0.09815005\n",
      "Iteration 51, loss = 0.09194808\n",
      "Iteration 52, loss = 0.08596866\n",
      "Iteration 53, loss = 0.08266410\n",
      "Iteration 54, loss = 0.07955890\n",
      "Iteration 55, loss = 0.07701800\n",
      "Iteration 56, loss = 0.07245881\n",
      "Iteration 57, loss = 0.06832447\n",
      "Iteration 58, loss = 0.06448575\n",
      "Iteration 59, loss = 0.06245196\n",
      "Iteration 60, loss = 0.06053925\n",
      "Iteration 61, loss = 0.05759255\n",
      "Iteration 62, loss = 0.05720595\n",
      "Iteration 63, loss = 0.05414605\n",
      "Iteration 64, loss = 0.05022337\n",
      "Iteration 65, loss = 0.04767249\n",
      "Iteration 66, loss = 0.04561574\n",
      "Iteration 67, loss = 0.04366110\n",
      "Iteration 68, loss = 0.04223777\n",
      "Iteration 69, loss = 0.04027872\n",
      "Iteration 70, loss = 0.03879823\n",
      "Iteration 71, loss = 0.03691841\n",
      "Iteration 72, loss = 0.03528503\n",
      "Iteration 73, loss = 0.03401350\n",
      "Iteration 74, loss = 0.03259134\n",
      "Iteration 75, loss = 0.03151854\n",
      "Iteration 76, loss = 0.03039262\n",
      "Iteration 77, loss = 0.02934373\n",
      "Iteration 78, loss = 0.02831987\n",
      "Iteration 79, loss = 0.02731755\n",
      "Iteration 80, loss = 0.02652356\n",
      "Iteration 81, loss = 0.02575786\n",
      "Iteration 82, loss = 0.02487386\n",
      "Iteration 83, loss = 0.02412740\n",
      "Iteration 84, loss = 0.02329328\n",
      "Iteration 85, loss = 0.02258391\n",
      "Iteration 86, loss = 0.02196340\n",
      "Iteration 87, loss = 0.02132659\n",
      "Iteration 88, loss = 0.02073475\n",
      "Iteration 89, loss = 0.02011402\n",
      "Iteration 90, loss = 0.01958964\n",
      "Iteration 91, loss = 0.01906131\n",
      "Iteration 92, loss = 0.01851180\n",
      "Iteration 93, loss = 0.01802224\n",
      "Iteration 94, loss = 0.01759273\n",
      "Iteration 95, loss = 0.01713098\n",
      "Iteration 96, loss = 0.01675793\n",
      "Iteration 97, loss = 0.01631486\n",
      "Iteration 98, loss = 0.01592204\n",
      "Iteration 99, loss = 0.01551689\n",
      "Iteration 100, loss = 0.01510874\n",
      "Iteration 101, loss = 0.01482438\n",
      "Iteration 102, loss = 0.01460843\n",
      "Iteration 103, loss = 0.01419597\n",
      "Iteration 104, loss = 0.01397248\n",
      "Iteration 105, loss = 0.01357879\n",
      "Iteration 106, loss = 0.01316690\n",
      "Iteration 107, loss = 0.01289473\n",
      "Iteration 108, loss = 0.01254659\n",
      "Iteration 109, loss = 0.01233579\n",
      "Iteration 110, loss = 0.01203703\n",
      "Iteration 111, loss = 0.01180577\n",
      "Iteration 112, loss = 0.01157037\n",
      "Iteration 113, loss = 0.01134419\n",
      "Iteration 114, loss = 0.01110295\n",
      "Iteration 115, loss = 0.01091566\n",
      "Iteration 116, loss = 0.01069164\n",
      "Iteration 117, loss = 0.01045960\n",
      "Iteration 118, loss = 0.01027770\n",
      "Iteration 119, loss = 0.01007189\n",
      "Iteration 120, loss = 0.00989474\n",
      "Iteration 121, loss = 0.00972802\n",
      "Iteration 122, loss = 0.00953152\n",
      "Iteration 123, loss = 0.00941103\n",
      "Iteration 124, loss = 0.00919495\n",
      "Iteration 125, loss = 0.00905211\n",
      "Iteration 126, loss = 0.00886990\n",
      "Iteration 127, loss = 0.00870505\n",
      "Iteration 128, loss = 0.00859842\n",
      "Iteration 129, loss = 0.00842832\n",
      "Iteration 130, loss = 0.00832576\n",
      "Iteration 131, loss = 0.00816635\n",
      "Iteration 132, loss = 0.00801828\n",
      "Iteration 133, loss = 0.00788149\n",
      "Iteration 134, loss = 0.00776394\n",
      "Iteration 135, loss = 0.00763410\n",
      "Iteration 136, loss = 0.00750652\n",
      "Iteration 137, loss = 0.00739848\n",
      "Iteration 138, loss = 0.00728734\n",
      "Iteration 139, loss = 0.00717611\n",
      "Iteration 140, loss = 0.00706622\n",
      "Iteration 141, loss = 0.00696389\n",
      "Iteration 142, loss = 0.00686253\n",
      "Iteration 143, loss = 0.00675594\n",
      "Iteration 144, loss = 0.00665800\n",
      "Iteration 145, loss = 0.00658049\n",
      "Iteration 146, loss = 0.00648674\n",
      "Iteration 147, loss = 0.00637272\n",
      "Iteration 148, loss = 0.00629258\n",
      "Iteration 149, loss = 0.00619469\n",
      "Iteration 150, loss = 0.00610955\n",
      "Iteration 151, loss = 0.00603228\n",
      "Iteration 152, loss = 0.00595130\n",
      "Iteration 153, loss = 0.00587352\n",
      "Iteration 154, loss = 0.00578895\n",
      "Iteration 155, loss = 0.00571459\n",
      "Iteration 156, loss = 0.00565939\n",
      "Iteration 157, loss = 0.00557606\n",
      "Iteration 158, loss = 0.00550389\n",
      "Iteration 159, loss = 0.00543652\n",
      "Iteration 160, loss = 0.00535632\n",
      "Iteration 161, loss = 0.00529903\n",
      "Iteration 162, loss = 0.00521841\n",
      "Iteration 163, loss = 0.00515607\n",
      "Iteration 164, loss = 0.00508940\n",
      "Iteration 165, loss = 0.00502090\n",
      "Iteration 166, loss = 0.00496430\n",
      "Iteration 167, loss = 0.00491533\n",
      "Iteration 168, loss = 0.00484845\n",
      "Iteration 169, loss = 0.00478730\n",
      "Iteration 170, loss = 0.00472815\n",
      "Iteration 171, loss = 0.00467816\n",
      "Iteration 172, loss = 0.00461674\n",
      "Iteration 173, loss = 0.00456061\n",
      "Iteration 174, loss = 0.00451155\n",
      "Iteration 175, loss = 0.00446486\n",
      "Iteration 176, loss = 0.00440698\n",
      "Iteration 177, loss = 0.00437239\n",
      "Iteration 178, loss = 0.00430769\n",
      "Iteration 179, loss = 0.00427260\n",
      "Iteration 180, loss = 0.00422696\n",
      "Iteration 181, loss = 0.00417981\n",
      "Iteration 182, loss = 0.00412565\n",
      "Iteration 183, loss = 0.00407589\n",
      "Iteration 184, loss = 0.00403522\n",
      "Iteration 185, loss = 0.00399658\n",
      "Iteration 186, loss = 0.00394860\n",
      "Iteration 187, loss = 0.00390761\n",
      "Iteration 188, loss = 0.00387166\n",
      "Iteration 189, loss = 0.00382987\n",
      "Iteration 190, loss = 0.00379195\n",
      "Iteration 191, loss = 0.00374924\n",
      "Iteration 192, loss = 0.00371339\n",
      "Iteration 193, loss = 0.00366938\n",
      "Iteration 194, loss = 0.00363259\n",
      "Iteration 195, loss = 0.00359440\n",
      "Iteration 196, loss = 0.00355983\n",
      "Iteration 197, loss = 0.00352629\n",
      "Iteration 198, loss = 0.00349609\n",
      "Iteration 199, loss = 0.00346467\n",
      "Iteration 200, loss = 0.00342013\n",
      "Iteration 201, loss = 0.00338991\n",
      "Iteration 202, loss = 0.00335155\n",
      "Iteration 203, loss = 0.00331968\n",
      "Iteration 204, loss = 0.00328796\n",
      "Iteration 205, loss = 0.00325858\n",
      "Iteration 206, loss = 0.00322820\n",
      "Iteration 207, loss = 0.00319813\n",
      "Iteration 208, loss = 0.00317049\n",
      "Iteration 209, loss = 0.00313881\n",
      "Iteration 210, loss = 0.00310929\n",
      "Iteration 211, loss = 0.00308305\n",
      "Iteration 212, loss = 0.00305416\n",
      "Iteration 213, loss = 0.00303050\n",
      "Iteration 214, loss = 0.00299869\n",
      "Iteration 215, loss = 0.00296918\n",
      "Iteration 216, loss = 0.00294404\n",
      "Iteration 217, loss = 0.00291843\n",
      "Iteration 218, loss = 0.00289362\n",
      "Iteration 219, loss = 0.00286793\n",
      "Iteration 220, loss = 0.00284353\n",
      "Iteration 221, loss = 0.00281818\n",
      "Iteration 222, loss = 0.00279540\n",
      "Iteration 223, loss = 0.00277477\n",
      "Iteration 224, loss = 0.00275148\n",
      "Iteration 225, loss = 0.00272735\n",
      "Iteration 226, loss = 0.00270627\n",
      "Iteration 227, loss = 0.00267889\n",
      "Iteration 228, loss = 0.00265731\n",
      "Iteration 229, loss = 0.00263842\n",
      "Iteration 230, loss = 0.00261252\n",
      "Iteration 231, loss = 0.00258928\n",
      "Iteration 232, loss = 0.00256963\n",
      "Iteration 233, loss = 0.00255041\n",
      "Iteration 234, loss = 0.00252836\n",
      "Iteration 235, loss = 0.00251243\n",
      "Iteration 236, loss = 0.00249163\n",
      "Iteration 237, loss = 0.00246932\n",
      "Iteration 238, loss = 0.00244929\n",
      "Iteration 239, loss = 0.00243119\n",
      "Iteration 240, loss = 0.00241075\n",
      "Iteration 241, loss = 0.00239438\n",
      "Iteration 242, loss = 0.00237545\n",
      "Iteration 243, loss = 0.00235581\n",
      "Iteration 244, loss = 0.00233862\n",
      "Iteration 245, loss = 0.00232125\n",
      "Iteration 246, loss = 0.00230474\n",
      "Iteration 247, loss = 0.00228646\n",
      "Iteration 248, loss = 0.00227118\n",
      "Iteration 249, loss = 0.00225392\n",
      "Iteration 250, loss = 0.00223546\n",
      "Iteration 251, loss = 0.00221918\n",
      "Iteration 252, loss = 0.00220189\n",
      "Iteration 253, loss = 0.00218678\n",
      "Iteration 254, loss = 0.00217049\n",
      "Iteration 255, loss = 0.00215600\n",
      "Iteration 256, loss = 0.00214019\n",
      "Iteration 257, loss = 0.00212421\n",
      "Iteration 258, loss = 0.00210839\n",
      "Iteration 259, loss = 0.00209420\n",
      "Iteration 260, loss = 0.00207945\n",
      "Iteration 261, loss = 0.00206471\n",
      "Iteration 262, loss = 0.00204945\n",
      "Iteration 263, loss = 0.00203600\n",
      "Iteration 264, loss = 0.00202154\n",
      "Iteration 265, loss = 0.00200762\n",
      "Iteration 266, loss = 0.00199369\n",
      "Iteration 267, loss = 0.00197954\n",
      "Iteration 268, loss = 0.00196691\n",
      "Iteration 269, loss = 0.00195344\n",
      "Iteration 270, loss = 0.00194043\n",
      "Iteration 271, loss = 0.00192745\n",
      "Iteration 272, loss = 0.00191444\n",
      "Iteration 273, loss = 0.00190091\n",
      "Iteration 274, loss = 0.00188978\n",
      "Iteration 275, loss = 0.00187684\n",
      "Iteration 276, loss = 0.00186470\n",
      "Iteration 277, loss = 0.00185380\n",
      "Iteration 278, loss = 0.00184129\n",
      "Iteration 279, loss = 0.00182922\n",
      "Iteration 280, loss = 0.00181755\n",
      "Iteration 281, loss = 0.00180549\n",
      "Iteration 282, loss = 0.00179332\n",
      "Iteration 283, loss = 0.00178356\n",
      "Iteration 284, loss = 0.00177402\n",
      "Iteration 285, loss = 0.00176226\n",
      "Iteration 286, loss = 0.00174870\n",
      "Iteration 287, loss = 0.00173667\n",
      "Iteration 288, loss = 0.00172584\n",
      "Iteration 289, loss = 0.00171614\n",
      "Iteration 290, loss = 0.00170567\n",
      "Iteration 291, loss = 0.00169470\n",
      "Iteration 292, loss = 0.00168380\n",
      "Iteration 293, loss = 0.00167393\n",
      "Iteration 294, loss = 0.00166533\n",
      "Iteration 295, loss = 0.00165443\n",
      "Iteration 296, loss = 0.00164394\n",
      "Iteration 297, loss = 0.00163376\n",
      "Iteration 298, loss = 0.00162444\n",
      "Iteration 299, loss = 0.00161455\n",
      "Iteration 300, loss = 0.00160482\n",
      "Iteration 301, loss = 0.00159469\n",
      "Iteration 302, loss = 0.00158580\n",
      "Iteration 303, loss = 0.00157674\n",
      "Iteration 304, loss = 0.00156694\n",
      "Iteration 305, loss = 0.00155828\n",
      "Iteration 306, loss = 0.00155028\n",
      "Iteration 307, loss = 0.00154029\n",
      "Iteration 308, loss = 0.00153266\n",
      "Iteration 309, loss = 0.00152213\n",
      "Iteration 310, loss = 0.00151449\n",
      "Iteration 311, loss = 0.00150588\n",
      "Iteration 312, loss = 0.00149717\n",
      "Iteration 313, loss = 0.00148869\n",
      "Iteration 314, loss = 0.00147976\n",
      "Iteration 315, loss = 0.00147227\n",
      "Iteration 316, loss = 0.00146490\n",
      "Iteration 317, loss = 0.00145655\n",
      "Iteration 318, loss = 0.00144937\n",
      "Iteration 319, loss = 0.00144116\n",
      "Iteration 320, loss = 0.00143278\n",
      "Iteration 321, loss = 0.00142618\n",
      "Iteration 322, loss = 0.00141785\n",
      "Iteration 323, loss = 0.00140963\n",
      "Iteration 324, loss = 0.00140140\n",
      "Iteration 325, loss = 0.00139450\n",
      "Iteration 326, loss = 0.00138676\n",
      "Iteration 327, loss = 0.00137970\n",
      "Iteration 328, loss = 0.00137269\n",
      "Iteration 329, loss = 0.00136556\n",
      "Iteration 330, loss = 0.00135831\n",
      "Iteration 331, loss = 0.00135179\n",
      "Iteration 332, loss = 0.00134435\n",
      "Iteration 333, loss = 0.00133780\n",
      "Iteration 334, loss = 0.00133132\n",
      "Iteration 335, loss = 0.00132511\n",
      "Iteration 336, loss = 0.00131881\n",
      "Iteration 337, loss = 0.00131240\n",
      "Iteration 338, loss = 0.00130476\n",
      "Iteration 339, loss = 0.00129814\n",
      "Iteration 340, loss = 0.00129101\n",
      "Iteration 341, loss = 0.00128529\n",
      "Iteration 342, loss = 0.00127850\n",
      "Iteration 343, loss = 0.00127344\n",
      "Iteration 344, loss = 0.00126644\n",
      "Iteration 345, loss = 0.00126060\n",
      "Iteration 346, loss = 0.00125496\n",
      "Iteration 347, loss = 0.00124896\n",
      "Iteration 348, loss = 0.00124240\n",
      "Iteration 349, loss = 0.00123620\n",
      "Iteration 350, loss = 0.00123045\n",
      "Iteration 351, loss = 0.00122472\n",
      "Iteration 352, loss = 0.00121863\n",
      "Iteration 353, loss = 0.00121272\n",
      "Iteration 354, loss = 0.00120795\n",
      "Iteration 355, loss = 0.00120116\n",
      "Iteration 356, loss = 0.00119586\n",
      "Iteration 357, loss = 0.00119020\n",
      "Iteration 358, loss = 0.00118577\n",
      "Iteration 359, loss = 0.00118018\n",
      "Iteration 360, loss = 0.00117424\n",
      "Iteration 361, loss = 0.00116888\n",
      "Iteration 362, loss = 0.00116387\n",
      "Iteration 363, loss = 0.00115877\n",
      "Iteration 364, loss = 0.00115302\n",
      "Iteration 365, loss = 0.00114837\n",
      "Iteration 366, loss = 0.00114328\n",
      "Iteration 367, loss = 0.00113817\n",
      "Iteration 368, loss = 0.00113267\n",
      "Iteration 369, loss = 0.00112777\n",
      "Iteration 370, loss = 0.00112299\n",
      "Iteration 371, loss = 0.00111804\n",
      "Iteration 372, loss = 0.00111334\n",
      "Iteration 373, loss = 0.00110798\n",
      "Iteration 374, loss = 0.00110466\n",
      "Iteration 375, loss = 0.00109993\n",
      "Iteration 376, loss = 0.00109539\n",
      "Iteration 377, loss = 0.00109026\n",
      "Iteration 378, loss = 0.00108558\n",
      "Iteration 379, loss = 0.00108054\n",
      "Iteration 380, loss = 0.00107588\n",
      "Iteration 381, loss = 0.00107137\n",
      "Iteration 382, loss = 0.00106788\n",
      "Iteration 383, loss = 0.00106331\n",
      "Iteration 384, loss = 0.00105825\n",
      "Iteration 385, loss = 0.00105426\n",
      "Iteration 386, loss = 0.00104985\n",
      "Iteration 387, loss = 0.00104535\n",
      "Iteration 388, loss = 0.00104110\n",
      "Iteration 389, loss = 0.00103695\n",
      "Iteration 390, loss = 0.00103259\n",
      "Iteration 391, loss = 0.00102875\n",
      "Iteration 392, loss = 0.00102474\n",
      "Iteration 393, loss = 0.00102035\n",
      "Iteration 394, loss = 0.00101660\n",
      "Iteration 395, loss = 0.00101237\n",
      "Iteration 396, loss = 0.00100846\n",
      "Iteration 397, loss = 0.00100446\n",
      "Iteration 398, loss = 0.00100062\n",
      "Iteration 399, loss = 0.00099679\n",
      "Iteration 400, loss = 0.00099304\n",
      "Iteration 401, loss = 0.00098926\n",
      "Iteration 402, loss = 0.00098580\n",
      "Iteration 403, loss = 0.00098194\n",
      "Iteration 404, loss = 0.00097826\n",
      "Iteration 405, loss = 0.00097445\n",
      "Iteration 406, loss = 0.00097070\n",
      "Iteration 407, loss = 0.00096734\n",
      "Iteration 408, loss = 0.00096322\n",
      "Iteration 409, loss = 0.00096006\n",
      "Iteration 410, loss = 0.00095653\n",
      "Iteration 411, loss = 0.00095278\n",
      "Iteration 412, loss = 0.00094956\n",
      "Iteration 413, loss = 0.00094591\n",
      "Iteration 414, loss = 0.00094235\n",
      "Iteration 415, loss = 0.00093935\n",
      "Iteration 416, loss = 0.00093567\n",
      "Iteration 417, loss = 0.00093233\n",
      "Iteration 418, loss = 0.00092896\n",
      "Iteration 419, loss = 0.00092564\n",
      "Iteration 420, loss = 0.00092232\n",
      "Iteration 421, loss = 0.00091926\n",
      "Iteration 422, loss = 0.00091558\n",
      "Iteration 423, loss = 0.00091217\n",
      "Iteration 424, loss = 0.00090941\n",
      "Iteration 425, loss = 0.00090643\n",
      "Iteration 426, loss = 0.00090309\n",
      "Iteration 427, loss = 0.00090005\n",
      "Iteration 428, loss = 0.00089660\n",
      "Iteration 429, loss = 0.00089394\n",
      "Iteration 430, loss = 0.00089067\n",
      "Iteration 431, loss = 0.00088761\n",
      "Iteration 432, loss = 0.00088450\n",
      "Iteration 433, loss = 0.00088141\n",
      "Iteration 434, loss = 0.00087845\n",
      "Iteration 435, loss = 0.00087547\n",
      "Iteration 436, loss = 0.00087240\n",
      "Iteration 437, loss = 0.00086930\n",
      "Iteration 438, loss = 0.00086620\n",
      "Iteration 439, loss = 0.00086357\n",
      "Iteration 440, loss = 0.00086064\n",
      "Iteration 441, loss = 0.00085788\n",
      "Iteration 442, loss = 0.00085503\n",
      "Iteration 443, loss = 0.00085216\n",
      "Iteration 444, loss = 0.00084943\n",
      "Iteration 445, loss = 0.00084671\n",
      "Iteration 446, loss = 0.00084395\n",
      "Iteration 447, loss = 0.00084110\n",
      "Iteration 448, loss = 0.00083851\n",
      "Iteration 449, loss = 0.00083579\n",
      "Iteration 450, loss = 0.00083315\n",
      "Iteration 451, loss = 0.00083050\n",
      "Iteration 452, loss = 0.00082787\n",
      "Iteration 453, loss = 0.00082543\n",
      "Iteration 454, loss = 0.00082292\n",
      "Iteration 455, loss = 0.00082023\n",
      "Iteration 456, loss = 0.00081772\n",
      "Iteration 457, loss = 0.00081525\n",
      "Iteration 458, loss = 0.00081275\n",
      "Iteration 459, loss = 0.00081020\n",
      "Iteration 460, loss = 0.00080762\n",
      "Iteration 461, loss = 0.00080515\n",
      "Iteration 462, loss = 0.00080286\n",
      "Iteration 463, loss = 0.00080047\n",
      "Iteration 464, loss = 0.00079807\n",
      "Iteration 465, loss = 0.00079577\n",
      "Iteration 466, loss = 0.00079330\n",
      "Iteration 467, loss = 0.00079098\n",
      "Iteration 468, loss = 0.00078877\n",
      "Iteration 469, loss = 0.00078630\n",
      "Iteration 470, loss = 0.00078434\n",
      "Iteration 471, loss = 0.00078190\n",
      "Iteration 472, loss = 0.00077973\n",
      "Iteration 473, loss = 0.00077725\n",
      "Iteration 474, loss = 0.00077491\n",
      "Iteration 475, loss = 0.00077255\n",
      "Iteration 476, loss = 0.00077042\n",
      "Iteration 477, loss = 0.00076814\n",
      "Iteration 478, loss = 0.00076598\n",
      "Iteration 479, loss = 0.00076384\n",
      "Iteration 480, loss = 0.00076176\n",
      "Iteration 481, loss = 0.00075962\n",
      "Iteration 482, loss = 0.00075735\n",
      "Iteration 483, loss = 0.00075531\n",
      "Iteration 484, loss = 0.00075331\n",
      "Iteration 485, loss = 0.00075101\n",
      "Iteration 486, loss = 0.00074893\n",
      "Iteration 487, loss = 0.00074681\n",
      "Iteration 488, loss = 0.00074472\n",
      "Iteration 489, loss = 0.00074275\n",
      "Iteration 490, loss = 0.00074080\n",
      "Iteration 491, loss = 0.00073888\n",
      "Iteration 492, loss = 0.00073655\n",
      "Iteration 493, loss = 0.00073466\n",
      "Iteration 494, loss = 0.00073291\n",
      "Iteration 495, loss = 0.00073086\n",
      "Iteration 496, loss = 0.00072873\n",
      "Iteration 497, loss = 0.00072681\n",
      "Iteration 498, loss = 0.00072496\n",
      "Iteration 499, loss = 0.00072302\n",
      "Iteration 500, loss = 0.00072102\n"
     ]
    },
    {
     "name": "stderr",
     "output_type": "stream",
     "text": [
      "/home/meta/.local/lib/python3.6/site-packages/sklearn/neural_network/multilayer_perceptron.py:562: ConvergenceWarning: Stochastic Optimizer: Maximum iterations (500) reached and the optimization hasn't converged yet.\n",
      "  % self.max_iter, ConvergenceWarning)\n"
     ]
    }
   ],
   "source": [
    "clf.fit(x_train, y_train)\n",
    "y_pred = clf.predict(x_test)"
   ]
  },
  {
   "cell_type": "code",
   "execution_count": 24,
   "metadata": {},
   "outputs": [],
   "source": [
    "loss_values = clf.loss_curve_"
   ]
  },
  {
   "cell_type": "code",
   "execution_count": 25,
   "metadata": {},
   "outputs": [
    {
     "data": {
      "text/plain": [
       "[<matplotlib.lines.Line2D at 0x7f55e10f54a8>]"
      ]
     },
     "execution_count": 25,
     "metadata": {},
     "output_type": "execute_result"
    },
    {
     "data": {
      "image/png": "[encoded data removed]",
      "text/plain": [
       "<Figure size 432x288 with 1 Axes>"
      ]
     },
     "metadata": {},
     "output_type": "display_data"
    }
   ],
   "source": [
    "plt.plot(loss_values)"
   ]
  },
  {
   "cell_type": "code",
   "execution_count": 26,
   "metadata": {},
   "outputs": [
    {
     "data": {
      "text/plain": [
       "0.98"
      ]
     },
     "execution_count": 26,
     "metadata": {},
     "output_type": "execute_result"
    }
   ],
   "source": [
    "round(accuracy_score(y_test, y_pred),2)"
   ]
  },
  {
   "cell_type": "code",
   "execution_count": 27,
   "metadata": {},
   "outputs": [
    {
     "data": {
      "text/plain": [
       "array([[42,  0,  0,  0,  0,  1,  0,  0,  0,  0],\n",
       "       [ 0, 34,  0,  0,  0,  0,  0,  0,  1,  0],\n",
       "       [ 0,  0, 35,  1,  0,  0,  0,  0,  0,  0],\n",
       "       [ 0,  0,  0, 41,  0,  0,  0,  0,  0,  0],\n",
       "       [ 0,  0,  0,  0, 38,  0,  0,  0,  0,  0],\n",
       "       [ 0,  0,  0,  0,  0, 30,  0,  0,  0,  0],\n",
       "       [ 0,  0,  0,  0,  0,  0, 37,  0,  0,  0],\n",
       "       [ 0,  0,  0,  0,  0,  0,  0, 35,  1,  1],\n",
       "       [ 0,  0,  0,  0,  0,  1,  0,  0, 27,  1],\n",
       "       [ 0,  0,  0,  0,  0,  1,  0,  0,  0, 33]])"
      ]
     },
     "execution_count": 27,
     "metadata": {},
     "output_type": "execute_result"
    }
   ],
   "source": [
    "cm = confusion_matrix(y_test, y_pred)\n",
    "cm"
   ]
  },
  {
   "cell_type": "code",
   "execution_count": 28,
   "metadata": {},
   "outputs": [
    {
     "data": {
      "image/png": "[encoded data removed]",
      "text/plain": [
       "<Figure size 432x288 with 2 Axes>"
      ]
     },
     "metadata": {},
     "output_type": "display_data"
    }
   ],
   "source": [
    "sns.heatmap(cm, center=True,annot=True)\n",
    "plt.show()"
   ]
  },
  {
   "cell_type": "code",
   "execution_count": null,
   "metadata": {},
   "outputs": [],
   "source": []
  }
 ],
 "metadata": {
  "kernelspec": {
   "display_name": "Python 3",
   "language": "python",
   "name": "python3"
  },
  "language_info": {
   "codemirror_mode": {
    "name": "ipython",
    "version": 3
   },
   "file_extension": ".py",
   "mimetype": "text/x-python",
   "name": "python",
   "nbconvert_exporter": "python",
   "pygments_lexer": "ipython3",
   "version": "3.6.6"
  }
 },
 "nbformat": 4,
 "nbformat_minor": 2
}
